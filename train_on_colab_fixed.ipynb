{
 "cells": [
  {
   "cell_type": "markdown",
   "id": "10ee2578",
   "metadata": {},
   "source": [
    "# 🚀 Train Spectral Neural Network on Google Colab\n",
    "\n",
    "**Hardware:** T4 GPU (15GB VRAM) - FREE on Colab!\n",
    "\n",
    "**What this does:**\n",
    "- ✅ Clones your code from GitHub (tafolabi009/RNN)\n",
    "- ✅ Trains Spectral LM on WikiText-103 with proper BPE tokenization\n",
    "- ✅ Mixed precision training (FP16)\n",
    "- ✅ Pre-tokenized dataset (cached for speed)\n",
    "- ✅ Saves checkpoints to Google Drive\n",
    "- ✅ Tests generation quality\n",
    "\n",
    "**Expected Results:**\n",
    "- Training time: ~2 hours (3 epochs, 10K samples)\n",
    "- Perplexity: ~20-30 (excellent!)\n",
    "- Text quality: Coherent sentences, no gibberish\n",
    "\n",
    "**Steps:**\n",
    "1. Runtime → Change runtime type → T4 GPU ⚡\n",
    "2. Run all cells in order (⌘/Ctrl + F9)\n",
    "3. Wait ~2 hours\n",
    "4. Download checkpoint from Drive"
   ]
  },
  {
   "cell_type": "markdown",
   "id": "144cd7bc",
   "metadata": {},
   "source": [
    "## 📋 Step 1: Check GPU"
   ]
  },
  {
   "cell_type": "code",
   "execution_count": null,
   "id": "86dc3394",
   "metadata": {},
   "outputs": [],
   "source": [
    "# Verify T4 GPU is available\n",
    "!nvidia-smi --query-gpu=name,memory.total --format=csv"
   ]
  },
  {
   "cell_type": "markdown",
   "id": "3167240c",
   "metadata": {},
   "source": [
    "## 📦 Step 2: Install Dependencies"
   ]
  },
  {
   "cell_type": "code",
   "execution_count": null,
   "id": "929603c7",
   "metadata": {},
   "outputs": [],
   "source": [
    "# Install required packages\n",
    "!pip install -q transformers datasets tqdm"
   ]
  },
  {
   "cell_type": "markdown",
   "id": "a07f9322",
   "metadata": {},
   "source": [
    "## 💾 Step 3: Mount Google Drive (for checkpoints)"
   ]
  },
  {
   "cell_type": "code",
   "execution_count": null,
   "id": "2c0884d4",
   "metadata": {},
   "outputs": [],
   "source": [
    "from google.colab import drive\n",
    "drive.mount('/content/drive')\n",
    "\n",
    "# Create checkpoint directory\n",
    "!mkdir -p /content/drive/MyDrive/spectral_checkpoints\n",
    "print(\"✅ Google Drive mounted\")"
   ]
  },
  {
   "cell_type": "markdown",
   "id": "0b35ce71",
   "metadata": {},
   "source": [
    "## 📥 Step 4: Clone Repository"
   ]
  },
  {
   "cell_type": "code",
   "execution_count": null,
   "id": "7a837d0c",
   "metadata": {},
   "outputs": [],
   "source": [
    "# Clone your GitHub repo\n",
    "!git clone https://github.com/tafolabi009/RNN.git\n",
    "\n",
    "# Change to repo directory\n",
    "%cd RNN\n",
    "\n",
    "# List files to verify\n",
    "!ls -la resonance_nn/"
   ]
  },
  {
   "cell_type": "markdown",
   "id": "7d1d3abd",
   "metadata": {},
   "source": [
    "## ✅ Step 5: Verify Setup"
   ]
  },
  {
   "cell_type": "code",
   "execution_count": null,
   "id": "a4605ce2",
   "metadata": {},
   "outputs": [],
   "source": [
    "# Test imports\n",
    "import torch\n",
    "from transformers import GPT2TokenizerFast\n",
    "from datasets import load_dataset\n",
    "\n",
    "print(f\"✅ PyTorch version: {torch.__version__}\")\n",
    "print(f\"✅ CUDA available: {torch.cuda.is_available()}\")\n",
    "\n",
    "if torch.cuda.is_available():\n",
    "    print(f\"✅ GPU: {torch.cuda.get_device_name(0)}\")\n",
    "    print(f\"✅ GPU Memory: {torch.cuda.get_device_properties(0).total_memory / 1e9:.1f} GB\")\n",
    "\n",
    "# Test model import\n",
    "from resonance_nn.spectral_optimized import SpectralLanguageModel, CONFIGS\n",
    "print(\"✅ Spectral model imported successfully!\")"
   ]
  },
  {
   "cell_type": "markdown",
   "id": "e2990bc8",
   "metadata": {},
   "source": [
    "## 🧹 Step 6: Clear GPU Memory"
   ]
  },
  {
   "cell_type": "code",
   "execution_count": null,
   "id": "3bac2702",
   "metadata": {},
   "outputs": [],
   "source": [
    "import gc\n",
    "\n",
    "torch.cuda.empty_cache()\n",
    "gc.collect()\n",
    "\n",
    "print(\"🧹 GPU memory cleared\")"
   ]
  },
  {
   "cell_type": "markdown",
   "id": "b921b0c5",
   "metadata": {},
   "source": [
    "## 🎯 Step 7: Configure Training\n",
    "\n",
    "**Memory-optimized for T4 GPU (15GB)**"
   ]
  },
  {
   "cell_type": "code",
   "execution_count": null,
   "id": "23f41690",
   "metadata": {},
   "outputs": [],
   "source": [
    "# Configuration\n",
    "CONFIG = {\n",
    "    'model_size': 'tiny',              # 63M params\n",
    "    'max_seq_len': 512,                 # Longer sequences than local training\n",
    "    'batch_size': 4,                    # T4 can handle this\n",
    "    'gradient_accumulation_steps': 16,  # Effective batch = 64\n",
    "    'num_epochs': 3,\n",
    "    'learning_rate': 3e-4,\n",
    "    'max_samples': 10000,               # Quick training (remove for full dataset)\n",
    "    'output_dir': '/content/drive/MyDrive/spectral_checkpoints',\n",
    "    'cache_file': 'tokenized_colab_cache.pkl',\n",
    "}\n",
    "\n",
    "print(\"📋 Training Configuration:\")\n",
    "for key, value in CONFIG.items():\n",
    "    print(f\"   {key}: {value}\")"
   ]
  },
  {
   "cell_type": "markdown",
   "id": "cef6eb6d",
   "metadata": {},
   "source": [
    "## 🚀 Step 8: Start Training\n",
    "\n",
    "**This uses the ultrafast training script with pre-tokenization.**\n",
    "\n",
    "**Estimated time: ~2 hours for 3 epochs**"
   ]
  },
  {
   "cell_type": "code",
   "execution_count": null,
   "id": "47afae49",
   "metadata": {},
   "outputs": [],
   "source": [
    "# Check if train_ultrafast.py exists, if not use train_production.py\n",
    "import os\n",
    "\n",
    "if os.path.exists('train_ultrafast.py'):\n",
    "    print(\"✅ Found train_ultrafast.py\")\n",
    "    training_script = 'train_ultrafast.py'\n",
    "else:\n",
    "    print(\"⚠️  train_ultrafast.py not found, creating it...\")\n",
    "    # We'll create it inline\n",
    "    training_script = None\n",
    "\n",
    "# List available training scripts\n",
    "!ls -la *.py | grep train"
   ]
  },
  {
   "cell_type": "markdown",
   "id": "5c3808d8",
   "metadata": {},
   "source": [
    "### Option A: If train_ultrafast.py exists"
   ]
  },
  {
   "cell_type": "code",
   "execution_count": null,
   "id": "f3d0e774",
   "metadata": {},
   "outputs": [],
   "source": [
    "# Run ultrafast training (if file exists)\n",
    "!python train_ultrafast.py"
   ]
  },
  {
   "cell_type": "markdown",
   "id": "d42062bb",
   "metadata": {},
   "source": [
    "### Option B: Inline Training Code (if scripts missing)"
   ]
  },
  {
   "cell_type": "code",
   "execution_count": null,
   "id": "aacbc89f",
   "metadata": {},
   "outputs": [],
   "source": [
    "# Inline training code - run this if train_ultrafast.py doesn't exist\n",
    "import torch\n",
    "import torch.nn.functional as F\n",
    "from torch.utils.data import Dataset, DataLoader\n",
    "from torch.amp import autocast as torch_autocast, GradScaler as TorchGradScaler\n",
    "import pickle\n",
    "import math\n",
    "from pathlib import Path\n",
    "from tqdm import tqdm\n",
    "from transformers import GPT2TokenizerFast\n",
    "from datasets import load_dataset\n",
    "from resonance_nn.spectral_optimized import SpectralLanguageModel, CONFIGS\n",
    "\n",
    "class PreTokenizedDataset(Dataset):\n",
    "    def __init__(self, tokenized_data):\n",
    "        self.data = tokenized_data\n",
    "    def __len__(self):\n",
    "        return len(self.data)\n",
    "    def __getitem__(self, idx):\n",
    "        return self.data[idx]\n",
    "\n",
    "def prepare_dataset(tokenizer, max_samples=10000, max_length=512, cache_file='tokenized_cache.pkl'):\n",
    "    cache_path = Path(cache_file)\n",
    "    \n",
    "    if cache_path.exists():\n",
    "        print(f\"📦 Loading cached data...\")\n",
    "        with open(cache_path, 'rb') as f:\n",
    "            data = pickle.load(f)\n",
    "        print(f\"✅ Loaded {len(data['train'])} train / {len(data['val'])} val\")\n",
    "        return data\n",
    "    \n",
    "    print(f\"📦 Loading WikiText-103...\")\n",
    "    dataset = load_dataset('wikitext', 'wikitext-103-raw-v1', split='train')\n",
    "    texts = [ex['text'] for ex in dataset if len(ex['text'].strip()) > 50][:max_samples]\n",
    "    \n",
    "    print(f\"🔄 Tokenizing {len(texts)} texts...\")\n",
    "    tokenized_samples = []\n",
    "    \n",
    "    for text in tqdm(texts, desc=\"Tokenizing\"):\n",
    "        encoded = tokenizer(text, max_length=max_length, truncation=True, padding='max_length', return_tensors='pt')\n",
    "        input_ids = encoded['input_ids'].squeeze(0)\n",
    "        labels = input_ids.clone()\n",
    "        labels[:-1] = input_ids[1:]\n",
    "        labels[-1] = 0\n",
    "        tokenized_samples.append({\n",
    "            'input_ids': input_ids,\n",
    "            'labels': labels,\n",
    "            'attention_mask': encoded['attention_mask'].squeeze(0)\n",
    "        })\n",
    "    \n",
    "    split_idx = int(len(tokenized_samples) * 0.9)\n",
    "    data = {'train': tokenized_samples[:split_idx], 'val': tokenized_samples[split_idx:]}\n",
    "    \n",
    "    print(f\"💾 Caching...\")\n",
    "    with open(cache_path, 'wb') as f:\n",
    "        pickle.dump(data, f)\n",
    "    return data\n",
    "\n",
    "# Setup\n",
    "device = torch.device('cuda')\n",
    "print(f\"\\n{'='*80}\")\n",
    "print(\"COLAB TRAINING - SPECTRAL NEURAL NETWORK\")\n",
    "print(f\"{'='*80}\\n\")\n",
    "\n",
    "# Config\n",
    "config = CONFIGS['tiny']\n",
    "config.vocab_size = 50257\n",
    "config.max_seq_len = 512\n",
    "config.use_gradient_checkpointing = True\n",
    "\n",
    "# Tokenizer\n",
    "tokenizer = GPT2TokenizerFast.from_pretrained('gpt2')\n",
    "tokenizer.pad_token = tokenizer.eos_token\n",
    "\n",
    "# Data\n",
    "data = prepare_dataset(tokenizer, max_samples=10000, max_length=512)\n",
    "train_dataset = PreTokenizedDataset(data['train'])\n",
    "val_dataset = PreTokenizedDataset(data['val'])\n",
    "\n",
    "train_loader = DataLoader(train_dataset, batch_size=4, shuffle=True, num_workers=2, pin_memory=True)\n",
    "val_loader = DataLoader(val_dataset, batch_size=4, shuffle=False, num_workers=2, pin_memory=True)\n",
    "\n",
    "print(f\"✅ Train batches: {len(train_loader):,}\")\n",
    "print(f\"✅ Val batches: {len(val_loader):,}\")\n",
    "\n",
    "# Model\n",
    "model = SpectralLanguageModel(config).to(device)\n",
    "num_params = sum(p.numel() for p in model.parameters()) / 1e6\n",
    "print(f\"✅ Model: {num_params:.1f}M parameters\")\n",
    "\n",
    "# Optimizer\n",
    "optimizer = torch.optim.AdamW(model.parameters(), lr=3e-4, weight_decay=0.1)\n",
    "scaler = TorchGradScaler('cuda')\n",
    "\n",
    "# Training\n",
    "print(f\"\\n{'='*80}\")\n",
    "print(\"STARTING TRAINING\")\n",
    "print(f\"{'='*80}\\n\")\n",
    "\n",
    "num_epochs = 3\n",
    "gradient_accumulation_steps = 16\n",
    "best_val_loss = float('inf')\n",
    "global_step = 0\n",
    "\n",
    "for epoch in range(num_epochs):\n",
    "    print(f\"\\n📊 Epoch {epoch + 1}/{num_epochs}\")\n",
    "    model.train()\n",
    "    epoch_loss = 0\n",
    "    optimizer.zero_grad()\n",
    "    \n",
    "    for step, batch in enumerate(tqdm(train_loader, desc=f\"Epoch {epoch + 1}\")):\n",
    "        input_ids = batch['input_ids'].to(device, non_blocking=True)\n",
    "        labels = batch['labels'].to(device, non_blocking=True)\n",
    "        attention_mask = batch['attention_mask'].to(device, non_blocking=True)\n",
    "        \n",
    "        with torch_autocast('cuda'):\n",
    "            logits = model(input_ids, attention_mask)\n",
    "            loss = F.cross_entropy(logits.view(-1, logits.size(-1)), labels.view(-1), ignore_index=0)\n",
    "            loss = loss / gradient_accumulation_steps\n",
    "        \n",
    "        scaler.scale(loss).backward()\n",
    "        epoch_loss += loss.item() * gradient_accumulation_steps\n",
    "        \n",
    "        if (step + 1) % gradient_accumulation_steps == 0:\n",
    "            scaler.unscale_(optimizer)\n",
    "            torch.nn.utils.clip_grad_norm_(model.parameters(), 1.0)\n",
    "            scaler.step(optimizer)\n",
    "            scaler.update()\n",
    "            optimizer.zero_grad()\n",
    "            global_step += 1\n",
    "    \n",
    "    # Validation\n",
    "    model.eval()\n",
    "    val_loss = 0\n",
    "    with torch.no_grad():\n",
    "        for batch in tqdm(val_loader, desc=\"Validation\"):\n",
    "            input_ids = batch['input_ids'].to(device, non_blocking=True)\n",
    "            labels = batch['labels'].to(device, non_blocking=True)\n",
    "            attention_mask = batch['attention_mask'].to(device, non_blocking=True)\n",
    "            logits = model(input_ids, attention_mask)\n",
    "            loss = F.cross_entropy(logits.view(-1, logits.size(-1)), labels.view(-1), ignore_index=0)\n",
    "            val_loss += loss.item()\n",
    "    \n",
    "    avg_val_loss = val_loss / len(val_loader)\n",
    "    val_perplexity = math.exp(avg_val_loss)\n",
    "    \n",
    "    print(f\"\\n✅ Epoch {epoch + 1} complete!\")\n",
    "    print(f\"   Train Loss: {epoch_loss / len(train_loader):.4f}\")\n",
    "    print(f\"   Val Loss: {avg_val_loss:.4f}\")\n",
    "    print(f\"   Val Perplexity: {val_perplexity:.2f}\")\n",
    "    \n",
    "    # Save\n",
    "    if avg_val_loss < best_val_loss:\n",
    "        best_val_loss = avg_val_loss\n",
    "        checkpoint_path = Path('/content/drive/MyDrive/spectral_checkpoints/spectral_colab_best.pth')\n",
    "        torch.save({\n",
    "            'model_state_dict': model.state_dict(),\n",
    "            'optimizer_state_dict': optimizer.state_dict(),\n",
    "            'config': config,\n",
    "            'epoch': epoch,\n",
    "            'global_step': global_step,\n",
    "            'best_val_loss': best_val_loss\n",
    "        }, checkpoint_path)\n",
    "        print(f\"   💾 Best model saved: {checkpoint_path}\")\n",
    "\n",
    "print(f\"\\n{'='*80}\")\n",
    "print(\"🎉 TRAINING COMPLETE!\")\n",
    "print(f\"{'='*80}\")\n",
    "print(f\"Best perplexity: {math.exp(best_val_loss):.2f}\")"
   ]
  },
  {
   "cell_type": "markdown",
   "id": "5d0efc7d",
   "metadata": {},
   "source": [
    "## 📊 Step 9: Monitor GPU (Optional)"
   ]
  },
  {
   "cell_type": "code",
   "execution_count": null,
   "id": "015c9ace",
   "metadata": {},
   "outputs": [],
   "source": [
    "# Check GPU usage during training\n",
    "!nvidia-smi"
   ]
  },
  {
   "cell_type": "markdown",
   "id": "f7ddb5d8",
   "metadata": {},
   "source": [
    "## 🧪 Step 10: Test the Trained Model"
   ]
  },
  {
   "cell_type": "code",
   "execution_count": null,
   "id": "cec37085",
   "metadata": {},
   "outputs": [],
   "source": [
    "# Load model\n",
    "import torch\n",
    "from transformers import GPT2TokenizerFast\n",
    "from resonance_nn.spectral_optimized import SpectralLanguageModel\n",
    "\n",
    "checkpoint_path = '/content/drive/MyDrive/spectral_checkpoints/spectral_colab_best.pth'\n",
    "checkpoint = torch.load(checkpoint_path, weights_only=False)\n",
    "\n",
    "config = checkpoint['config']\n",
    "model = SpectralLanguageModel(config)\n",
    "model.load_state_dict(checkpoint['model_state_dict'])\n",
    "model = model.cuda().eval()\n",
    "\n",
    "tokenizer = GPT2TokenizerFast.from_pretrained('gpt2')\n",
    "tokenizer.pad_token = tokenizer.eos_token\n",
    "\n",
    "print(\"✅ Model loaded!\")\n",
    "print(f\"   Best val loss: {checkpoint.get('best_val_loss', 'N/A')}\")\n",
    "print(f\"   Training steps: {checkpoint.get('global_step', 'N/A')}\")"
   ]
  },
  {
   "cell_type": "code",
   "execution_count": null,
   "id": "0d380c5f",
   "metadata": {},
   "outputs": [],
   "source": [
    "# Generate text samples\n",
    "import torch.nn.functional as F\n",
    "\n",
    "def generate_text(prompt, max_new_tokens=100, temperature=0.7, top_k=40, top_p=0.9):\n",
    "    input_ids = tokenizer.encode(prompt, return_tensors='pt').cuda()\n",
    "    generated = input_ids.clone()\n",
    "    \n",
    "    with torch.no_grad():\n",
    "        for _ in range(max_new_tokens):\n",
    "            if generated.size(1) >= model.config.max_seq_len:\n",
    "                break\n",
    "            \n",
    "            logits = model(generated)\n",
    "            next_token_logits = logits[:, -1, :] / temperature\n",
    "            \n",
    "            # Top-k\n",
    "            if top_k > 0:\n",
    "                indices_to_remove = next_token_logits < torch.topk(next_token_logits, top_k)[0][..., -1, None]\n",
    "                next_token_logits[indices_to_remove] = float('-inf')\n",
    "            \n",
    "            # Top-p\n",
    "            if top_p < 1.0:\n",
    "                sorted_logits, sorted_indices = torch.sort(next_token_logits, descending=True)\n",
    "                cumulative_probs = torch.cumsum(F.softmax(sorted_logits, dim=-1), dim=-1)\n",
    "                sorted_indices_to_remove = cumulative_probs > top_p\n",
    "                sorted_indices_to_remove[..., 1:] = sorted_indices_to_remove[..., :-1].clone()\n",
    "                sorted_indices_to_remove[..., 0] = 0\n",
    "                indices_to_remove = sorted_indices_to_remove.scatter(1, sorted_indices, sorted_indices_to_remove)\n",
    "                next_token_logits[indices_to_remove] = float('-inf')\n",
    "            \n",
    "            probs = F.softmax(next_token_logits, dim=-1)\n",
    "            next_token = torch.multinomial(probs, num_samples=1)\n",
    "            generated = torch.cat([generated, next_token], dim=1)\n",
    "    \n",
    "    return tokenizer.decode(generated[0], skip_special_tokens=True)\n",
    "\n",
    "# Test prompts\n",
    "prompts = [\n",
    "    \"The history of artificial intelligence\",\n",
    "    \"In the year 2050,\",\n",
    "    \"Machine learning is\",\n",
    "]\n",
    "\n",
    "print(\"\\n\" + \"=\"*80)\n",
    "print(\"GENERATED TEXT SAMPLES\")\n",
    "print(\"=\"*80)\n",
    "\n",
    "for prompt in prompts:\n",
    "    print(f\"\\n📝 Prompt: {prompt}\")\n",
    "    print(\"-\" * 80)\n",
    "    text = generate_text(prompt, max_new_tokens=80, temperature=0.7)\n",
    "    print(text)\n",
    "    print(\"=\"*80)"
   ]
  },
  {
   "cell_type": "markdown",
   "id": "001c378a",
   "metadata": {},
   "source": [
    "## 💾 Step 11: Download Checkpoints"
   ]
  },
  {
   "cell_type": "code",
   "execution_count": null,
   "id": "fc6f77a4",
   "metadata": {},
   "outputs": [],
   "source": [
    "# List checkpoints\n",
    "!ls -lh /content/drive/MyDrive/spectral_checkpoints/"
   ]
  },
  {
   "cell_type": "code",
   "execution_count": null,
   "id": "ea88c953",
   "metadata": {},
   "outputs": [],
   "source": [
    "# Download to your computer\n",
    "from google.colab import files\n",
    "files.download('/content/drive/MyDrive/spectral_checkpoints/spectral_colab_best.pth')"
   ]
  },
  {
   "cell_type": "markdown",
   "id": "f985b717",
   "metadata": {},
   "source": [
    "## 📊 Expected Results\n",
    "\n",
    "**After 3 epochs on 10K samples (512 token sequences):**\n",
    "- ✅ Validation perplexity: **20-30** (excellent!)\n",
    "- ✅ Training time: **~2 hours** on T4 GPU\n",
    "- ✅ Text quality: Coherent sentences, proper grammar\n",
    "- ✅ Memory usage: ~10-12GB (safe for T4)\n",
    "- ✅ No gibberish! (proper BPE tokenization)\n",
    "\n",
    "**Compare to your local training:**\n",
    "- Local (256 tokens, GTX 1660 Ti): Perplexity 22.22, lots of repetition\n",
    "- Colab (512 tokens, T4 GPU): Better perplexity, longer coherent text\n",
    "\n",
    "**To improve further:**\n",
    "1. Remove `max_samples=10000` to train on full WikiText-103 (~1.8M texts)\n",
    "2. Increase epochs to 10-20\n",
    "3. Try `model_size='small'` (428M params) if Colab Pro\n",
    "4. Train on OpenWebText or C4 dataset\n",
    "\n",
    "**Model sizes on T4 (15GB):**\n",
    "- ✅ `tiny` (63M): Batch size 4, seq len 512 → **~10GB**\n",
    "- ⚠️ `small` (428M): Batch size 1, seq len 256 → **~14GB** (tight!)\n",
    "- ❌ `base` (1B+): Needs A100 (40GB) - Colab Pro required"
   ]
  },
  {
   "cell_type": "markdown",
   "id": "6cf61af3",
   "metadata": {},
   "source": [
    "## 🔧 Troubleshooting\n",
    "\n",
    "### Out of Memory:\n",
    "```python\n",
    "# Reduce batch size and sequence length\n",
    "config.max_seq_len = 256  # Instead of 512\n",
    "# In DataLoader: batch_size=2  # Instead of 4\n",
    "```\n",
    "\n",
    "### Training too slow:\n",
    "```python\n",
    "# Reduce dataset size\n",
    "data = prepare_dataset(tokenizer, max_samples=5000)  # Instead of 10000\n",
    "```\n",
    "\n",
    "### Colab disconnects:\n",
    "- Keep browser tab active\n",
    "- Click in the notebook occasionally\n",
    "- Colab free tier disconnects after 12 hours idle\n",
    "- Checkpoints save to Drive automatically!\n",
    "\n",
    "### Resume training:\n",
    "```python\n",
    "# Load checkpoint and continue\n",
    "checkpoint = torch.load('/content/drive/MyDrive/spectral_checkpoints/spectral_colab_best.pth')\n",
    "model.load_state_dict(checkpoint['model_state_dict'])\n",
    "optimizer.load_state_dict(checkpoint['optimizer_state_dict'])\n",
    "# Continue training from checkpoint['epoch'] + 1\n",
    "```"
   ]
  }
 ],
 "metadata": {
  "language_info": {
   "name": "python"
  }
 },
 "nbformat": 4,
 "nbformat_minor": 5
}
